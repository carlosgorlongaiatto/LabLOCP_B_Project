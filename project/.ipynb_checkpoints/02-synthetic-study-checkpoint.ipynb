{
 "cells": [
  {
   "cell_type": "code",
   "execution_count": 2,
   "metadata": {
    "cell_id": "5910c7b7d8994b7ebe08cfceaec846aa",
    "deepnote_cell_height": 260.83331298828125,
    "deepnote_cell_type": "code",
    "deepnote_to_be_reexecuted": false,
    "execution_millis": 2355,
    "execution_start": 1650643722835,
    "source_hash": "9abb9471",
    "tags": []
   },
   "outputs": [],
   "source": [
    "import numpy as np\n",
    "\n",
    "import matplotlib.pyplot as plt\n",
    "plt.rcParams['axes.labelsize'] = 14\n",
    "plt.rcParams['axes.titlesize'] = 14\n",
    "\n",
    "import pandas as pd\n",
    "from scipy import fftpack, stats\n",
    "\n",
    "import seaborn as sns\n",
    "palette = sns.color_palette('tab10')"
   ]
  },
  {
   "cell_type": "markdown",
   "metadata": {
    "cell_id": "0a64721a8b9543158f77274711502a1d",
    "deepnote_cell_height": 133.8333282470703,
    "deepnote_cell_type": "markdown",
    "tags": []
   },
   "source": [
    "# Sinusoidal signal with Gaussian white noise and regular time-scale"
   ]
  },
  {
   "cell_type": "code",
   "execution_count": 3,
   "metadata": {
    "cell_id": "243c9e1d-ff38-4aaa-a319-92591ff98c3c",
    "deepnote_cell_height": 1085.6666259765625,
    "deepnote_cell_type": "code",
    "deepnote_to_be_reexecuted": false,
    "execution_millis": 5,
    "execution_start": 1650643791912,
    "owner_user_id": "0a06ca46-5b60-4cbc-85be-15b044414a83",
    "source_hash": "26731670",
    "tags": []
   },
   "outputs": [
    {
     "data": {
      "text/html": [
       "<div>\n",
       "<style scoped>\n",
       "    .dataframe tbody tr th:only-of-type {\n",
       "        vertical-align: middle;\n",
       "    }\n",
       "\n",
       "    .dataframe tbody tr th {\n",
       "        vertical-align: top;\n",
       "    }\n",
       "\n",
       "    .dataframe thead th {\n",
       "        text-align: right;\n",
       "    }\n",
       "</style>\n",
       "<table border=\"1\" class=\"dataframe\">\n",
       "  <thead>\n",
       "    <tr style=\"text-align: right;\">\n",
       "      <th></th>\n",
       "      <th>t</th>\n",
       "      <th>y(t)</th>\n",
       "    </tr>\n",
       "  </thead>\n",
       "  <tbody>\n",
       "    <tr>\n",
       "      <th>0</th>\n",
       "      <td>0.00</td>\n",
       "      <td>9.795292</td>\n",
       "    </tr>\n",
       "    <tr>\n",
       "      <th>1</th>\n",
       "      <td>0.01</td>\n",
       "      <td>10.459211</td>\n",
       "    </tr>\n",
       "    <tr>\n",
       "      <th>2</th>\n",
       "      <td>0.02</td>\n",
       "      <td>9.401708</td>\n",
       "    </tr>\n",
       "    <tr>\n",
       "      <th>3</th>\n",
       "      <td>0.03</td>\n",
       "      <td>9.267142</td>\n",
       "    </tr>\n",
       "    <tr>\n",
       "      <th>4</th>\n",
       "      <td>0.04</td>\n",
       "      <td>11.651612</td>\n",
       "    </tr>\n",
       "    <tr>\n",
       "      <th>...</th>\n",
       "      <td>...</td>\n",
       "      <td>...</td>\n",
       "    </tr>\n",
       "    <tr>\n",
       "      <th>296</th>\n",
       "      <td>2.96</td>\n",
       "      <td>11.035558</td>\n",
       "    </tr>\n",
       "    <tr>\n",
       "      <th>297</th>\n",
       "      <td>2.97</td>\n",
       "      <td>11.173172</td>\n",
       "    </tr>\n",
       "    <tr>\n",
       "      <th>298</th>\n",
       "      <td>2.98</td>\n",
       "      <td>9.534494</td>\n",
       "    </tr>\n",
       "    <tr>\n",
       "      <th>299</th>\n",
       "      <td>2.99</td>\n",
       "      <td>10.846257</td>\n",
       "    </tr>\n",
       "    <tr>\n",
       "      <th>300</th>\n",
       "      <td>3.00</td>\n",
       "      <td>11.747234</td>\n",
       "    </tr>\n",
       "  </tbody>\n",
       "</table>\n",
       "<p>301 rows × 2 columns</p>\n",
       "</div>"
      ],
      "text/plain": [
       "        t       y(t)\n",
       "0    0.00   9.795292\n",
       "1    0.01  10.459211\n",
       "2    0.02   9.401708\n",
       "3    0.03   9.267142\n",
       "4    0.04  11.651612\n",
       "..    ...        ...\n",
       "296  2.96  11.035558\n",
       "297  2.97  11.173172\n",
       "298  2.98   9.534494\n",
       "299  2.99  10.846257\n",
       "300  3.00  11.747234\n",
       "\n",
       "[301 rows x 2 columns]"
      ]
     },
     "execution_count": 3,
     "metadata": {},
     "output_type": "execute_result"
    }
   ],
   "source": [
    "# set seed for random number generator\n",
    "np.random.seed(12345)\n",
    "\n",
    "# f_s\n",
    "sampling_rate = 100\n",
    "\n",
    "# signal frequency\n",
    "# note: if the highest signal frequency is smaller than the Nyquist frequency (which is half the sampling rate)\n",
    "# the resulting discrete-time series is said to be free of the distortion \n",
    "frequency = sampling_rate/100\n",
    "\n",
    "# regular time-scale\n",
    "dt = 1/sampling_rate\n",
    "t = np.arange(0, 3*(1/frequency)+dt, dt)\n",
    "\n",
    "# sinusoidal signal\n",
    "A = 10\n",
    "signal = A*np.cos(2*np.pi*frequency*t)\n",
    "\n",
    "# Gaussian white noise\n",
    "sigma_y = 1\n",
    "noise = sigma_y*np.random.normal(0, 1, len(t))\n",
    "\n",
    "# sinusoidal signal with Gaussian white noise and regular time-scale\n",
    "y = signal + noise\n",
    "\n",
    "df = pd.DataFrame(data = {'t':t, 'y(t)':y})\n",
    "df"
   ]
  },
  {
   "cell_type": "code",
   "execution_count": 4,
   "metadata": {
    "cell_id": "7cb567f86aaf4fddbbf14ba484a78a7d",
    "deepnote_cell_height": 472.75,
    "deepnote_cell_type": "code",
    "deepnote_output_heights": [
     268
    ],
    "deepnote_to_be_reexecuted": false,
    "execution_millis": 198,
    "execution_start": 1650643793531,
    "source_hash": "99c2213d",
    "tags": []
   },
   "outputs": [
    {
     "data": {
      "image/png": "[encoded data removed]",
      "text/plain": [
       "<Figure size 432x288 with 1 Axes>"
      ]
     },
     "metadata": {
      "needs_background": "light"
     },
     "output_type": "display_data"
    }
   ],
   "source": [
    "# line plot\n",
    "fig, ax = plt.subplots()\n",
    "ax.plot(df['t'], df['y(t)'], color = palette[0])\n",
    "ax.set_xlabel('t [s]')\n",
    "ax.set_ylabel('y(t)')\n",
    "plt.grid()\n",
    "plt.show()"
   ]
  },
  {
   "cell_type": "markdown",
   "metadata": {
    "cell_id": "03cc3f00d37b4cfa9b43c0ab7595d3cb",
    "deepnote_cell_height": 61.83332824707031,
    "deepnote_cell_type": "markdown",
    "tags": []
   },
   "source": [
    "### Fast Fourier transform"
   ]
  },
  {
   "cell_type": "code",
   "execution_count": 5,
   "metadata": {
    "cell_id": "6593757a884f475085cbc2f4ccd07031",
    "deepnote_cell_height": 827.3333129882812,
    "deepnote_cell_type": "code",
    "deepnote_output_heights": [
     289
    ],
    "deepnote_to_be_reexecuted": false,
    "execution_millis": 446,
    "execution_start": 1650643800900,
    "source_hash": "eda70376",
    "tags": []
   },
   "outputs": [
    {
     "data": {
      "image/png": "[encoded data removed]",
      "text/plain": [
       "<Figure size 432x288 with 1 Axes>"
      ]
     },
     "metadata": {
      "needs_background": "light"
     },
     "output_type": "display_data"
    },
    {
     "name": "stdout",
     "output_type": "stream",
     "text": [
      "peak frequency: 0.9967 [Hz]\n"
     ]
    }
   ],
   "source": [
    "# FFT\n",
    "y_fft = fftpack.fft(y)\n",
    "power = np.abs(y_fft)\n",
    "freq = fftpack.fftfreq(y.size, d=1)\n",
    "\n",
    "# select only positive frequencies\n",
    "mask = np.where(freq > 0)\n",
    "power = power[mask]\n",
    "freq = freq[mask]\n",
    "\n",
    "fig, ax = plt.subplots()\n",
    "ax.plot(freq, power/np.max(power), color = palette[0])\n",
    "\n",
    "ax.set_xticks(np.arange(0, 0.51, 0.1))\n",
    "ax.set_xlabel('normalized frequency f/f$_{s}$')\n",
    "ax.set_ylabel('amplitude')\n",
    "ax.set_title('discrete-Fourier transform of the signal')\n",
    "plt.grid()\n",
    "plt.show()\n",
    "\n",
    "# find peak frequency\n",
    "peak_freq = freq[power.argmax()]\n",
    "print('peak frequency:', '{:.4f}'.format(peak_freq*sampling_rate), '[Hz]')"
   ]
  },
  {
   "cell_type": "markdown",
   "metadata": {
    "cell_id": "66b89fec585b48f6875edae710e6b34b",
    "deepnote_cell_height": 81.83332824707031,
    "deepnote_cell_type": "markdown",
    "tags": []
   },
   "source": [
    "# Corrupted time-scale\n",
    "\n",
    "The corrupted time-scale is generated as\n",
    "\n",
    "- $t_{i+1} = t_{i} + exp(\\xi_{i})$\n",
    "\n",
    "with\n",
    "\n",
    "- $\\xi_{i+1} = a + b \\cdot \\xi_{i} + c \\cdot \\epsilon_i$\n",
    "\n",
    "where $-1 < b < 1$ and $\\epsilon_i \\sim \\mathcal{N}(0, 1)$"
   ]
  },
  {
   "cell_type": "code",
   "execution_count": 91,
   "metadata": {
    "cell_id": "0c64a22fdbae44eeba1e9f0a6dd4aa5e",
    "deepnote_cell_height": 80.83332824707031,
    "deepnote_cell_type": "code",
    "deepnote_to_be_reexecuted": false,
    "execution_millis": 3,
    "execution_start": 1650643805975,
    "source_hash": "cf445ff5",
    "tags": []
   },
   "outputs": [
    {
     "name": "stdout",
     "output_type": "stream",
     "text": [
      "a: 0.1 \n",
      "b: 0.9 \n",
      "c: 0.55\n"
     ]
    }
   ],
   "source": [
    "# set seed for random number generator\n",
    "np.random.seed(12345)\n",
    "\n",
    "\n",
    "a = 0.1\n",
    "b = 0.9\n",
    "c = 0.55\n",
    "print('a:', a, '\\nb:', b, '\\nc:', c)\n",
    "\n",
    "xi = np.zeros(1000)\n",
    "xi[0] = 0\n",
    "\n",
    "# create the list of xi\n",
    "for i in range(1, len(xi)):\n",
    "    # normal-distributed independent random increments\n",
    "    Z = np.random.normal(0, 1)\n",
    "    xi[i] = a + b*xi[i-1] + c*Z\n",
    "    \n",
    "    \n",
    "# create the corrupted time-scale\n",
    "t_corr = np.zeros(len(xi))\n",
    "t_corr[0] = 0\n",
    "\n",
    "for i in range(1, len(xi)):\n",
    "    t_corr[i] = t_corr[i-1] + np.exp(xi[i])\n",
    "    \n",
    "\n",
    "# create the non-corrupted time-scale\n",
    "t = np.linspace(0, max(t_corr), len(t_corr))"
   ]
  },
  {
   "cell_type": "markdown",
   "metadata": {
    "cell_id": "73bf07a2d1634f6f894a376e2740b25c",
    "deepnote_cell_height": 133.8333282470703,
    "deepnote_cell_type": "markdown",
    "tags": []
   },
   "source": [
    "# Sinusoidal signal with Gaussian white noise and corrupted time-scale"
   ]
  },
  {
   "cell_type": "code",
   "execution_count": 92,
   "metadata": {
    "cell_id": "a846ace2d46248b6aecbaeed4a5d9822",
    "deepnote_cell_height": 80.83332824707031,
    "deepnote_cell_type": "code",
    "deepnote_to_be_reexecuted": false,
    "execution_millis": 7,
    "execution_start": 1650643806922,
    "owner_user_id": "66111578-48f6-4041-8347-ed013a63b10d",
    "source_hash": "cf445ff5",
    "tags": []
   },
   "outputs": [
    {
     "data": {
      "text/html": [
       "<div>\n",
       "<style scoped>\n",
       "    .dataframe tbody tr th:only-of-type {\n",
       "        vertical-align: middle;\n",
       "    }\n",
       "\n",
       "    .dataframe tbody tr th {\n",
       "        vertical-align: top;\n",
       "    }\n",
       "\n",
       "    .dataframe thead th {\n",
       "        text-align: right;\n",
       "    }\n",
       "</style>\n",
       "<table border=\"1\" class=\"dataframe\">\n",
       "  <thead>\n",
       "    <tr style=\"text-align: right;\">\n",
       "      <th></th>\n",
       "      <th>t</th>\n",
       "      <th>t_corr</th>\n",
       "      <th>y(t_corr)</th>\n",
       "    </tr>\n",
       "  </thead>\n",
       "  <tbody>\n",
       "    <tr>\n",
       "      <th>0</th>\n",
       "      <td>0.000000</td>\n",
       "      <td>0.000000</td>\n",
       "      <td>11.373890</td>\n",
       "    </tr>\n",
       "    <tr>\n",
       "      <th>1</th>\n",
       "      <td>5.067811</td>\n",
       "      <td>0.987490</td>\n",
       "      <td>9.015744</td>\n",
       "    </tr>\n",
       "    <tr>\n",
       "      <th>2</th>\n",
       "      <td>10.135623</td>\n",
       "      <td>2.409524</td>\n",
       "      <td>10.926473</td>\n",
       "    </tr>\n",
       "    <tr>\n",
       "      <th>3</th>\n",
       "      <td>15.203434</td>\n",
       "      <td>3.549707</td>\n",
       "      <td>9.178622</td>\n",
       "    </tr>\n",
       "    <tr>\n",
       "      <th>4</th>\n",
       "      <td>20.271246</td>\n",
       "      <td>4.465850</td>\n",
       "      <td>8.154489</td>\n",
       "    </tr>\n",
       "    <tr>\n",
       "      <th>...</th>\n",
       "      <td>...</td>\n",
       "      <td>...</td>\n",
       "      <td>...</td>\n",
       "    </tr>\n",
       "    <tr>\n",
       "      <th>995</th>\n",
       "      <td>5042.472397</td>\n",
       "      <td>5049.207307</td>\n",
       "      <td>11.128757</td>\n",
       "    </tr>\n",
       "    <tr>\n",
       "      <th>996</th>\n",
       "      <td>5047.540208</td>\n",
       "      <td>5053.759178</td>\n",
       "      <td>8.596407</td>\n",
       "    </tr>\n",
       "    <tr>\n",
       "      <th>997</th>\n",
       "      <td>5052.608020</td>\n",
       "      <td>5057.763487</td>\n",
       "      <td>9.687573</td>\n",
       "    </tr>\n",
       "    <tr>\n",
       "      <th>998</th>\n",
       "      <td>5057.675831</td>\n",
       "      <td>5059.798851</td>\n",
       "      <td>9.750864</td>\n",
       "    </tr>\n",
       "    <tr>\n",
       "      <th>999</th>\n",
       "      <td>5062.743643</td>\n",
       "      <td>5062.743643</td>\n",
       "      <td>6.943010</td>\n",
       "    </tr>\n",
       "  </tbody>\n",
       "</table>\n",
       "<p>1000 rows × 3 columns</p>\n",
       "</div>"
      ],
      "text/plain": [
       "               t       t_corr  y(t_corr)\n",
       "0       0.000000     0.000000  11.373890\n",
       "1       5.067811     0.987490   9.015744\n",
       "2      10.135623     2.409524  10.926473\n",
       "3      15.203434     3.549707   9.178622\n",
       "4      20.271246     4.465850   8.154489\n",
       "..           ...          ...        ...\n",
       "995  5042.472397  5049.207307  11.128757\n",
       "996  5047.540208  5053.759178   8.596407\n",
       "997  5052.608020  5057.763487   9.687573\n",
       "998  5057.675831  5059.798851   9.750864\n",
       "999  5062.743643  5062.743643   6.943010\n",
       "\n",
       "[1000 rows x 3 columns]"
      ]
     },
     "execution_count": 92,
     "metadata": {},
     "output_type": "execute_result"
    }
   ],
   "source": [
    "# frequency in order to have 10 periods in the time interval considered\n",
    "frequency = 10/np.max(t_corr)\n",
    "\n",
    "# sinusoidal signal\n",
    "A = 10\n",
    "signal = A*np.cos(2*np.pi*frequency*t_corr)\n",
    "\n",
    "# Gaussian white noise\n",
    "sigma_y = 1\n",
    "noise = sigma_y*np.random.normal(0, 1, len(t_corr))\n",
    "\n",
    "# sinusoidal signal with Gaussian white noise and regular time-scale\n",
    "y = signal + noise\n",
    "\n",
    "df = pd.DataFrame(data = {'t':t, 't_corr':t_corr, 'y(t_corr)':y})\n",
    "df"
   ]
  },
  {
   "cell_type": "code",
   "execution_count": 93,
   "metadata": {},
   "outputs": [
    {
     "data": {
      "image/png": "[encoded data removed]",
      "text/plain": [
       "<Figure size 432x288 with 1 Axes>"
      ]
     },
     "metadata": {
      "needs_background": "light"
     },
     "output_type": "display_data"
    }
   ],
   "source": [
    "# line plot\n",
    "fig, ax = plt.subplots()\n",
    "ax.plot(df['t'], df['y(t_corr)'], color = palette[0])\n",
    "ax.set_xlabel('t [s]')\n",
    "ax.set_ylabel('y(t_corr)')\n",
    "plt.grid()\n",
    "plt.show()"
   ]
  },
  {
   "cell_type": "markdown",
   "metadata": {
    "created_in_deepnote_cell": true,
    "deepnote_cell_type": "markdown",
    "tags": []
   },
   "source": [
    "<a style='text-decoration:none;line-height:16px;display:flex;color:#5B5B62;padding:10px;justify-content:end;' href='https://deepnote.com?utm_source=created-in-deepnote-cell&projectId=c14b0aaf-e80a-496a-b85a-26cbb9b6d6b5' target=\"_blank\">\n",
    "<img alt='Created in deepnote.com' style='display:inline;max-height:16px;margin:0px;margin-right:7.5px;' src='data:image/svg+xml;base64,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' > </img>\n",
    "Created in <span style='font-weight:600;margin-left:4px;'>Deepnote</span></a>"
   ]
  }
 ],
 "metadata": {
  "deepnote": {},
  "deepnote_execution_queue": [],
  "deepnote_notebook_id": "d9765cbb-3724-4827-8e76-d2d08990f197",
  "kernelspec": {
   "display_name": "Python 3 (ipykernel)",
   "language": "python",
   "name": "python3"
  },
  "language_info": {
   "codemirror_mode": {
    "name": "ipython",
    "version": 3
   },
   "file_extension": ".py",
   "mimetype": "text/x-python",
   "name": "python",
   "nbconvert_exporter": "python",
   "pygments_lexer": "ipython3",
   "version": "3.8.13"
  }
 },
 "nbformat": 4,
 "nbformat_minor": 2
}
